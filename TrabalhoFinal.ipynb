{
  "nbformat": 4,
  "nbformat_minor": 0,
  "metadata": {
    "colab": {
      "provenance": [],
      "collapsed_sections": [
        "kksrfKPUDQbE",
        "Dixkl-K5DWlq",
        "megwLGItC3VI",
        "ZlivgP1EEQMt"
      ],
      "authorship_tag": "ABX9TyOIIixHHxa761LSTB0ZFfAs",
      "include_colab_link": true
    },
    "kernelspec": {
      "name": "python3",
      "display_name": "Python 3"
    },
    "language_info": {
      "name": "python"
    }
  },
  "cells": [
    {
      "cell_type": "markdown",
      "metadata": {
        "id": "view-in-github",
        "colab_type": "text"
      },
      "source": [
        "<a href=\"https://colab.research.google.com/github/ThySantos/datasets/blob/main/TrabalhoFinal.ipynb\" target=\"_parent\"><img src=\"https://colab.research.google.com/assets/colab-badge.svg\" alt=\"Open In Colab\"/></a>"
      ]
    },
    {
      "cell_type": "markdown",
      "source": [
        "### **Importações**"
      ],
      "metadata": {
        "id": "kksrfKPUDQbE"
      }
    },
    {
      "cell_type": "code",
      "execution_count": 58,
      "metadata": {
        "id": "9sWfc_P8plvj"
      },
      "outputs": [],
      "source": [
        "#Manuseio de dados\n",
        "import numpy as np\n",
        "import pandas as pd\n",
        "\n",
        "# Visualização\n",
        "import matplotlib.pyplot as plt\n"
      ]
    },
    {
      "cell_type": "markdown",
      "source": [
        "### **Dataset e arrumação da planilhas**"
      ],
      "metadata": {
        "id": "Dixkl-K5DWlq"
      }
    },
    {
      "cell_type": "code",
      "source": [
        "#carrega os dados no dataset\n",
        "df = pd.read_csv ( 'https://raw.githubusercontent.com/ThySantos/datasets/main/TrabalhoFinal.csv', sep= ',')\n",
        "df = df.drop(columns=['nome', 'ano'])\n",
        "df"
      ],
      "metadata": {
        "id": "xumNmegZCs_m"
      },
      "execution_count": null,
      "outputs": []
    },
    {
      "cell_type": "markdown",
      "source": [
        "### **Média, Mediana, Moda e Desvio padrão da coluna \"Horas\"**"
      ],
      "metadata": {
        "id": "megwLGItC3VI"
      }
    },
    {
      "cell_type": "code",
      "source": [
        "#Média\n",
        "media = np.mean(df['horas '])\n",
        "print(media)\n",
        "\n",
        "#Mediana\n",
        "mediana = np.median(df['horas '])\n",
        "print(mediana)\n",
        "\n",
        "#Moda\n",
        "moda = df['horas '].mode()\n",
        "print(moda)\n",
        "\n",
        "#Desvio padrão\n",
        "desvio = np.std(df['horas '])\n",
        "print(desvio)"
      ],
      "metadata": {
        "colab": {
          "base_uri": "https://localhost:8080/"
        },
        "id": "2HLEC_0DCz0t",
        "outputId": "2bde9468-143d-4998-e47c-a10271e08b0c"
      },
      "execution_count": 55,
      "outputs": [
        {
          "output_type": "stream",
          "name": "stdout",
          "text": [
            "14.64\n",
            "7.5\n",
            "0    10.0\n",
            "Name: horas , dtype: float64\n",
            "21.315191765499083\n"
          ]
        }
      ]
    },
    {
      "cell_type": "markdown",
      "source": [
        "### **Média, Mediana, Moda e Desvio padrão da coluna \"Notas\"**"
      ],
      "metadata": {
        "id": "ZlivgP1EEQMt"
      }
    },
    {
      "cell_type": "code",
      "source": [
        "#Média\n",
        "media = np.mean(df['notas'])\n",
        "print(media)\n",
        "\n",
        "#Mediana\n",
        "mediana = np.median(df['notas'])\n",
        "print(mediana)\n",
        "\n",
        "#Moda\n",
        "#Moda\n",
        "moda = df['notas'].mode()\n",
        "print(moda)\n",
        "\n",
        "#Desvio padrão\n",
        "desvio = np.std(df['notas'])\n",
        "print(desvio)"
      ],
      "metadata": {
        "colab": {
          "base_uri": "https://localhost:8080/"
        },
        "id": "-FXhIRKlDre7",
        "outputId": "9f015aba-72eb-454b-eb8d-9b08004a551b"
      },
      "execution_count": 56,
      "outputs": [
        {
          "output_type": "stream",
          "name": "stdout",
          "text": [
            "7.840000000000001\n",
            "7.9\n",
            "0    7.5\n",
            "1    8.0\n",
            "Name: notas, dtype: float64\n",
            "0.7080960386840192\n"
          ]
        }
      ]
    },
    {
      "cell_type": "markdown",
      "source": [
        "### **Análise da Regressão Linear**"
      ],
      "metadata": {
        "id": "9n5hINM6EYci"
      }
    },
    {
      "cell_type": "code",
      "source": [
        "#variavel independente (caracteristicas) - Horas de estudo\n",
        "X = df['horas '].values.reshape(-1, 1)\n",
        "\n",
        "#variavel dependente(alvo) - Notas finais\n",
        "y = df['notas'].values\n",
        "\n",
        "#Criação e ajuste do modelo de regressão linear\n",
        "model = LinearRegression()\n",
        "model.fit(X, y)\n",
        "\n",
        "#coeficientes de regressão\n",
        "coeficiente_angular = model.coef_\n",
        "intercepto = model.intercept_\n",
        "\n",
        "#verificação\n",
        "print(f\"Coeficiente Angular: {coeficiente_angular}\")\n",
        "print(f\"Intercepto: {intercepto}\")\n",
        "\n",
        "y_pred = coeficiente_angular * X + intercepto\n",
        "print(y_pred)\n",
        "\n",
        "#Visualização dos resultados\n",
        "plt.scatter(X, y)\n",
        "plt.plot(X,y_pred,color = 'red', linewidth= 2, label = 'Linha de Regressão')\n",
        "plt.xlabel('horas')\n",
        "plt.ylabel('notas')\n",
        "plt.title('Análise de Regressão Linear Simples')\n",
        "plt.show()"
      ],
      "metadata": {
        "id": "W4GPCmRfDTzh"
      },
      "execution_count": null,
      "outputs": []
    }
  ]
}